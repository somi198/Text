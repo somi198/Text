{
 "cells": [
  {
   "cell_type": "markdown",
   "id": "a271ea94",
   "metadata": {},
   "source": [
    "`/home/tf1`:  jupyter notebook 현재 경로 (앞으로 생략)  "
   ]
  },
  {
   "cell_type": "markdown",
   "id": "0bfddb4f",
   "metadata": {},
   "source": [
    "## 1. `src/KoBART` : 실행할 소스파일들  \n",
    "- `dataset.py` : tokenizer, padding 진행 코드\n",
    "- `download_binary.py` : * binary model 드라이브에서 다운로드하는 코드 (make binary model 사용)\n",
    "- `get_model_binary.py` : 학습 후 binary model 생성 코드\n",
    "- `infer.py` : streamlit demo site 실행 코드 (1개의 샘플을 출력하고 싶을 때)\n",
    "- `print.py` : 각 모델에 따른 요약 결과 출력 (2개 이상의 샘플을 출력하고 싶을 때)\n",
    "- `requirements.txt` : * 필요한 package 코드 (1_install_package 참고) \n",
    "- `rouge_metric.py` : * rouge score 계산 코드 (pip install rouge)\n",
    "- `run_train.sh/` : * train.py 실행 코드 (gpu 사용)\n",
    "- `run_train_cpu.sh*/` : * train.py 실행 코드 (cpu 사용)\n",
    "- `train.py` : 모델 생성 및 학습 코드\n",
    "\n",
    "*) 기존에 github 소스코드에 존재하는 파일로 사용하지 않았음 (대신 따로 사용했던 것을 괄호에 적어둠)"
   ]
  },
  {
   "cell_type": "markdown",
   "id": "fb6c0e77",
   "metadata": {},
   "source": [
    "## 2. `rsc` : 데이터, 학습 후의 결과들\n",
    "- `Binary_model/`: 학습 완료된 **binary model**들 (각 데이터는 학습순서로 기재, 일부는 batch size와 lrfinder 사용유무 기재)\n",
    "- `By_domain_ckpt/` : **도메인 별** 학습 결과들 (각 데이터는 학습순서로 기재)  \n",
    "        - kobart_summary-model_chp/ : checkpoint 저장된 폴더 (epoch, val_loss 기재)\n",
    "        - tb_logs/default/ : train할 때마다 생성되는 버전 파일 (version_x )\n",
    "        - test_xxxxxxx/tb_logs/default/ : test할 때마다 생성되는 버전 파일 (version_x )\n",
    "        - test_xxxxxxx/tb_logs/rouge_score.csv : test후 생성되는 rouge score 값\n",
    "- `By_hpram_ckpt/` : **하이퍼파라미터 별** 학습 결과들 (각 데이터는 학습순서로 기재)\n",
    "        - 'dacon_신문기사' 로 학습 및 테스트 진행\n",
    "        - 아래 파일은 위와 동일\n",
    "- `Data/` :  train, test 데이터 저장 (학습한 파일명 : **train_v1.csv**, **dev_v1.csv**)\n",
    "\n",
    "\n",
    "(괄호 안 : 폴더 안 파일들의 제목에 대한 설명)"
   ]
  },
  {
   "cell_type": "code",
   "execution_count": null,
   "id": "02cefc24",
   "metadata": {},
   "outputs": [],
   "source": []
  }
 ],
 "metadata": {
  "kernelspec": {
   "display_name": "Python 3",
   "language": "python",
   "name": "python3"
  },
  "language_info": {
   "codemirror_mode": {
    "name": "ipython",
    "version": 3
   },
   "file_extension": ".py",
   "mimetype": "text/x-python",
   "name": "python",
   "nbconvert_exporter": "python",
   "pygments_lexer": "ipython3",
   "version": "3.6.9"
  }
 },
 "nbformat": 4,
 "nbformat_minor": 5
}
