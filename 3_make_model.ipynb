{
 "cells": [
  {
   "cell_type": "markdown",
   "id": "97d21b48",
   "metadata": {},
   "source": [
    "# 모델 구현 과정\n",
    "\n",
    "\n",
    "++ 여기서 부터는 .py 파일 직접 들어가서 수정해주세요!\n",
    "\n",
    "### - src/KoBART/`train.py` 수정\n",
    "    1. mode 변수 생성 (train/test 모드 구분하기 위함)   \n",
    "    2. test_step 함수 구현    \n",
    "    3. test_epoch_end 함수 구현 \n",
    "    4. early stopping 함수 구현\n",
    "    5. main 함수 추가 수정  \n",
    "    6. lr finder 사용시     \n",
    "    7. 최적의 batch size 탐색 시     "
   ]
  },
  {
   "cell_type": "markdown",
   "id": "6cd079bd",
   "metadata": {},
   "source": [
    "---\n",
    "## 1. mode 변수 생성"
   ]
  },
  {
   "cell_type": "markdown",
   "id": "15246a80",
   "metadata": {},
   "source": [
    "<img src=\"img/1.png\" height=\"100px\" width=\"700px\" align=\"left\">"
   ]
  },
  {
   "cell_type": "markdown",
   "id": "9cd13f2e",
   "metadata": {},
   "source": [
    "- 15번째 줄과 같이 `from rouge import Rouge`작성하여 Rouge 패키지 import 하기\n",
    "- `mode 변수`와 `hparams_file` 새로 생성\n",
    "\n",
    "#### <모델 실행 시 checkpoint_path 변수와 haparmas_file 사용에 대한 설명>\n",
    "\n",
    "- Train\n",
    "     - 모델 새로 생성 : checkpoint_path 경로 입력 x, hparams_file 경로 입력 x\n",
    "     - 모델 추가 학습 (**이어서 학습**)\n",
    "          - checkpoint_path 경로 입력 - 이어서 학습할 checkpoint 모델 경로 입력\n",
    "          - hparams_file 경로 입력 - 해당 모델의 yaml 파일 경로 입력\n",
    "- Test\n",
    "     - checkpoint_path 경로 입력 - 성능 평가할 모델의 checkpoint 경로 입력  \n",
    "     - hparams_file 경로 입력 - 성능 평가할 모델의 yaml 파일 경로 입력\n",
    "\n",
    " <br>\n",
    "\n",
    "    **=> 즉, 모델을 처음부터 학습시킬 때 제외하고는 두 변수(checkpoint_path, hparams_file) 모두 입력 필요!**\n",
    "   "
   ]
  },
  {
   "cell_type": "markdown",
   "id": "a84f069c",
   "metadata": {},
   "source": [
    "---\n",
    "## 2,3. test_step 및 test_epoch_end 함수 구현"
   ]
  },
  {
   "cell_type": "markdown",
   "id": "29ac8f85",
   "metadata": {},
   "source": [
    "<img src=\"img/2.png\" height=\"100px\" width=\"600px\" align=\"left\">  "
   ]
  },
  {
   "cell_type": "markdown",
   "id": "e3380b86",
   "metadata": {},
   "source": [
    "- class KoBARTConditionalGeneration(Base) 클래스 안의 <font color=blue>test_step 함수와 test_epoch_end 함수</font> 생성\n",
    "- 위치는 <font color=green>validation_epoch_end 함수 밑</font>에 생성!\n"
   ]
  },
  {
   "cell_type": "markdown",
   "id": "3dde9629",
   "metadata": {},
   "source": [
    "### > test_step 함수 코드"
   ]
  },
  {
   "cell_type": "markdown",
   "id": "a3cbc8d6",
   "metadata": {},
   "source": [
    "    def test_step(self, batch, batch_idx):\n",
    "        score = {'rouge-1':{'r':0, 'p':0, 'f':0}, \n",
    "                 'rouge-2':{'r':0, 'p':0, 'f':0}, \n",
    "                 'rouge-l':{'r':0, 'p':0, 'f':0}}\n",
    "        rouge = Rouge()\n",
    "        \n",
    "        x = batch['input_ids']\n",
    "        y = batch['label']\n",
    "\n",
    "        output = self.model.generate(x, eos_token_id=1, max_length=512, num_beams=5)\n",
    "        \n",
    "        \n",
    "        for i in range(len(output)):\n",
    "\n",
    "            predict = self.tokenizer.decode(output[i], skip_special_tokens=True)\n",
    "            label = y[i]\n",
    "            \n",
    "            s = rouge.get_scores(predict, label)[0]\n",
    "            \n",
    "            \n",
    "            score['rouge-1']['r'] += s['rouge-1']['r']\n",
    "            score['rouge-1']['p'] += s['rouge-1']['p']\n",
    "            score['rouge-1']['f'] += s['rouge-1']['f']\n",
    "            \n",
    "            score['rouge-2']['r'] += s['rouge-2']['r']\n",
    "            score['rouge-2']['p'] += s['rouge-2']['p']\n",
    "            score['rouge-2']['f'] += s['rouge-2']['f']\n",
    "            \n",
    "            score['rouge-l']['r'] += s['rouge-l']['r']\n",
    "            score['rouge-l']['p'] += s['rouge-l']['p']\n",
    "            score['rouge-l']['f'] += s['rouge-l']['f']\n",
    "            \n",
    "            \n",
    "        score['rouge-1']['r'] /= len(output)\n",
    "        score['rouge-1']['p'] /= len(output)\n",
    "        score['rouge-1']['f'] /= len(output)\n",
    "            \n",
    "        score['rouge-2']['r'] /= len(output)\n",
    "        score['rouge-2']['p'] /= len(output)\n",
    "        score['rouge-2']['f'] /= len(output)\n",
    "            \n",
    "        score['rouge-l']['r'] /= len(output)\n",
    "        score['rouge-l']['p'] /= len(output)\n",
    "        score['rouge-l']['f'] /= len(output)\n",
    "        \n",
    "        #print(score)\n",
    "           \n",
    "        return (score)"
   ]
  },
  {
   "cell_type": "markdown",
   "id": "5efb583c",
   "metadata": {},
   "source": [
    "### > test_epoch_end 함수 코드"
   ]
  },
  {
   "cell_type": "markdown",
   "id": "91cc5b79",
   "metadata": {},
   "source": [
    "    def test_epoch_end(self, outputs):\n",
    "        score = {'rouge-1':{'r':0, 'p':0, 'f':0}, 'rouge-2':{'r':0, 'p':0, 'f':0}, 'rouge-l':{'r':0, 'p':0, 'f':0}}\n",
    "        \n",
    "        for s in outputs:\n",
    "            score['rouge-1']['r'] += s['rouge-1']['r']\n",
    "            score['rouge-1']['p'] += s['rouge-1']['p']\n",
    "            score['rouge-1']['f'] += s['rouge-1']['f']\n",
    "            \n",
    "            score['rouge-2']['r'] += s['rouge-2']['r']\n",
    "            score['rouge-2']['p'] += s['rouge-2']['p']\n",
    "            score['rouge-2']['f'] += s['rouge-2']['f']\n",
    "            \n",
    "            score['rouge-l']['r'] += s['rouge-l']['r']\n",
    "            score['rouge-l']['p'] += s['rouge-l']['p']\n",
    "            score['rouge-l']['f'] += s['rouge-l']['f']\n",
    "            \n",
    "        \n",
    "        score['rouge-1']['r'] /= len(outputs)\n",
    "        score['rouge-1']['p'] /= len(outputs)\n",
    "        score['rouge-1']['f'] /= len(outputs)\n",
    "            \n",
    "        score['rouge-2']['r'] /= len(outputs)\n",
    "        score['rouge-2']['p'] /= len(outputs)\n",
    "        score['rouge-2']['f'] /= len(outputs)\n",
    "            \n",
    "        score['rouge-l']['r'] /= len(outputs)\n",
    "        score['rouge-l']['p'] /= len(outputs)\n",
    "        score['rouge-l']['f'] /= len(outputs)\n",
    "        \n",
    "        \n",
    "        df = pd.DataFrame(score)\n",
    "        df.to_csv(os.path.join(args.default_root_dir, 'rouge_score.csv'))\n",
    "        \n",
    "        print(df)"
   ]
  },
  {
   "cell_type": "markdown",
   "id": "1e21d751",
   "metadata": {},
   "source": [
    "----\n",
    "## 4. earlystopping 함수 구현"
   ]
  },
  {
   "cell_type": "markdown",
   "id": "e4c2932f",
   "metadata": {},
   "source": [
    "#### <기존의 main 함수>"
   ]
  },
  {
   "cell_type": "markdown",
   "id": "bbd49fda",
   "metadata": {},
   "source": [
    "<img src=\"img/7.png\" height=\"100px\" width=\"700px\" align=\"left\">  "
   ]
  },
  {
   "cell_type": "markdown",
   "id": "fe196334",
   "metadata": {},
   "source": [
    "**1. 기존의 main 함수에서 213번째 라인 <font color=blue>model = KoBARTConditionalGeneration(args)</font> 삭제**    \n",
    "**2. 기존의 main 함수에서 233번째 라인 <font color=blue>trainer.fit(model, dm)</font> 삭제**"
   ]
  },
  {
   "cell_type": "markdown",
   "id": "4879f49d",
   "metadata": {},
   "source": [
    "#### <수정된 main 함수>"
   ]
  },
  {
   "cell_type": "markdown",
   "id": "cfc90d7d",
   "metadata": {},
   "source": [
    "<img src=\"img/4.png\" height=\"100px\" width=\"700px\" align=\"left\">  "
   ]
  },
  {
   "cell_type": "markdown",
   "id": "8d19dc57",
   "metadata": {},
   "source": [
    "**1. early_stopping 함수 추가 (아래 코드 복붙)**\n",
    "\n",
    "- 위치는 checkpoint_callback 변수 밑에 추가"
   ]
  },
  {
   "cell_type": "markdown",
   "id": "ade2afd3",
   "metadata": {},
   "source": [
    "    early_stopping = pl.callbacks.EarlyStopping(\n",
    "        monitor='val_loss',\n",
    "        patience=10,   # metric 성능이 몇 번의 epoch가 향상 되지않을 때 학습을 멈출건지 지정\n",
    "        verbose=True,\n",
    "        mode='min'\n",
    "    )"
   ]
  },
  {
   "cell_type": "markdown",
   "id": "894b8eb3",
   "metadata": {},
   "source": [
    "**2. 329번째 줄과 같이 옵션 추가**\n",
    "\n",
    "**3. 342번째 줄과 같이 새롭게 생성한 early_stopping 함수를 pl.Trainer.from_argparse_args 함수 인자인 <font color='red'>callback 리스트 안에 추가!</font> (빨간색 네모)**"
   ]
  },
  {
   "cell_type": "markdown",
   "id": "86f09d56",
   "metadata": {},
   "source": [
    "---\n",
    "## 5. main 추가 수정"
   ]
  },
  {
   "cell_type": "markdown",
   "id": "005b9cf4",
   "metadata": {},
   "source": [
    "<img src=\"img/5.png\" height=\"100px\" width=\"900px\" align=\"left\">  "
   ]
  },
  {
   "cell_type": "markdown",
   "id": "e1f53db4",
   "metadata": {},
   "source": [
    "**1. 모드에 따른 모델 생성 코드 추가** (아래 코드 복붙)\n",
    "- 위치는 trainer 변수 밑에 추가"
   ]
  },
  {
   "cell_type": "markdown",
   "id": "f1e201d8",
   "metadata": {},
   "source": [
    "    if args.mode == 'train':       \n",
    "            \n",
    "        if not args.checkpoint_path and not args.hparams_file:   # 체크포인트 경로나 yaml 파일 경로가 입력되지 않았을 경우\n",
    "            model = KoBARTConditionalGeneration(args)            # 모델 새로 생성\n",
    "        else:                                                    # 체크포인트 경로와 yaml 파일 경로 모두 입력된 경우\n",
    "            with open(args.hparams_file) as f:                   \n",
    "                hparams = yaml.load(f, Loader=yaml.Loader)\n",
    "            \n",
    "            model = KoBARTConditionalGeneration.load_from_checkpoint(args.checkpoint_path, hparams=hparams) # 해당 모델 로드\n",
    "       \n",
    "        \n",
    "        '''\n",
    "        <lr finder 사용 시>\n",
    "         lr_finder = trainer.tuner.lr_find(model=model, datamodule=dm)\n",
    "         lr_finder.results\n",
    "         new_lr = lr_finder.suggestion() # Pick point based on plot, or get suggestion\n",
    "         model.hparams.lr = new_lr\n",
    "        '''\n",
    "\n",
    "        #trainer.tune(model,dm)  # 최적의 batch size 찾을 시\n",
    "        trainer.fit(model, dm)\n",
    "        \n",
    "        \n",
    "    elif args.mode == 'test':\n",
    "        \n",
    "        with open(args.hparams_file) as f:\n",
    "            hparams = yaml.load(f, Loader=yaml.Loader)\n",
    "            \n",
    "        model=KoBARTConditionalGeneration.load_from_checkpoint(args.checkpoint_path, hparams=hparams)\n",
    "       \n",
    "\n",
    "        # test (pass in the model)\n",
    "        trainer.test(model=model, datamodule=dm, verbose=True)"
   ]
  },
  {
   "cell_type": "markdown",
   "id": "7d764d06",
   "metadata": {},
   "source": [
    "**2. 최적의 batch size 탐색 옵션 설명**"
   ]
  },
  {
   "cell_type": "markdown",
   "id": "78cccbfe",
   "metadata": {},
   "source": [
    "- 2, 4, 8, 16, 32 등 batch size 늘려가며 최적의 batch size를 탐색하는 옵션\n",
    "- 사진의 341번째 줄과 같이 <font color='blue'>pl.Trainer.from_argparse_args</font> 함수 인자에 `auto_scale_batch_size='power'` 추가"
   ]
  },
  {
   "cell_type": "markdown",
   "id": "ce81f86c",
   "metadata": {},
   "source": [
    "    trainer = pl.Trainer.from_argparse_args(args, auto_scale_batch_size='power', logger=tb_logger,\n",
    "                                            callbacks=[checkpoint_callback, early_stopping, lr_logger])\n",
    "       "
   ]
  },
  {
   "cell_type": "markdown",
   "id": "778e56b1",
   "metadata": {},
   "source": [
    "- 옵션 추가한 후 trainer.fit(model, dm) 하기 전에 **<font color='blue'>trainer.tune(model, dm)</font> 필수적으로 실행**\n",
    "- 단, 해당 기능 사용 시 lr finder 함수와 함께 실행하면 에러가 나므로, <font color='red'>lr finder 함수 코드는 주석 처리하고 진행!</font>"
   ]
  },
  {
   "cell_type": "markdown",
   "id": "63f54e8b",
   "metadata": {},
   "source": [
    "**3. lr finder 코드 설명**"
   ]
  },
  {
   "cell_type": "markdown",
   "id": "f6b320d3",
   "metadata": {},
   "source": [
    "         lr_finder = trainer.tuner.lr_find(model=model, datamodule=dm)\n",
    "         lr_finder.results\n",
    "         new_lr = lr_finder.suggestion() # Pick point based on plot, or get suggestion\n",
    "         model.hparams.lr = new_lrㅡ"
   ]
  },
  {
   "cell_type": "markdown",
   "id": "020489c9",
   "metadata": {},
   "source": [
    "* 자동으로 최적의 학습률을 찾아주는 함수\n",
    "* lr finder 관련 설명 링크 첨부\n",
    "    - https://pytorch-lightning.readthedocs.io/en/latest/advanced/lr_finder.html \n",
    "    - https://github.com/davidtvs/pytorch-lr-finder \n",
    "* 단, lr finder 사용 시 trainer.tune(model, dm)과 같이 사용하면 에러가 나므로, <font color='red'>trainer.tune(model, dm) 주석처리하고 진행!</font>"
   ]
  },
  {
   "cell_type": "markdown",
   "id": "5ea3c798",
   "metadata": {},
   "source": [
    "### - src/KoBART/`dataset.py` 수정"
   ]
  },
  {
   "cell_type": "markdown",
   "id": "689e8323",
   "metadata": {},
   "source": [
    "<img src=\"img/6.png\" height=\"100px\" width=\"600px\" align=\"left\"> "
   ]
  },
  {
   "cell_type": "markdown",
   "id": "ed2ac6db",
   "metadata": {},
   "source": [
    "**1. 50번째 줄과 58번째 줄과 같이 코드 추가하기**"
   ]
  }
 ],
 "metadata": {
  "kernelspec": {
   "display_name": "Python 3",
   "language": "python",
   "name": "python3"
  },
  "language_info": {
   "codemirror_mode": {
    "name": "ipython",
    "version": 3
   },
   "file_extension": ".py",
   "mimetype": "text/x-python",
   "name": "python",
   "nbconvert_exporter": "python",
   "pygments_lexer": "ipython3",
   "version": "3.6.9"
  }
 },
 "nbformat": 4,
 "nbformat_minor": 5
}
