{
 "cells": [
  {
   "cell_type": "markdown",
   "id": "21408f08",
   "metadata": {},
   "source": [
    "## 1. kobart git 오픈소스 다운"
   ]
  },
  {
   "cell_type": "markdown",
   "id": "b8fa5e62",
   "metadata": {},
   "source": [
    "1. src 폴더 새로 생성하고, 해당 경로로 이동 (**경로 설정 방법부터 똑같이 설명하겠습니다!**)      \n",
    "\n",
    "   (아래 코드 실행)"
   ]
  },
  {
   "cell_type": "code",
   "execution_count": null,
   "id": "6ebb2d40",
   "metadata": {},
   "outputs": [],
   "source": [
    "mkdir src\n",
    "cd src"
   ]
  },
  {
   "cell_type": "markdown",
   "id": "ea6ec9fd",
   "metadata": {},
   "source": [
    "2. src 폴더 안에 git clone 하여 소스코드 다운 받기"
   ]
  },
  {
   "cell_type": "code",
   "execution_count": null,
   "id": "3ebf4998",
   "metadata": {},
   "outputs": [],
   "source": [
    "!git clone https://github.com/seujung/KoBART-summarization.git"
   ]
  },
  {
   "cell_type": "code",
   "execution_count": 14,
   "id": "d0739962",
   "metadata": {},
   "outputs": [
    {
     "name": "stdout",
     "output_type": "stream",
     "text": [
      "\u001b[0m\u001b[01;34mKoBART-summarization\u001b[0m/\r\n"
     ]
    }
   ],
   "source": [
    "ls"
   ]
  },
  {
   "cell_type": "markdown",
   "id": "8125d820",
   "metadata": {},
   "source": [
    "3. 해당 폴더 명을 **\"KoBART\"**로 바꾸기"
   ]
  },
  {
   "cell_type": "code",
   "execution_count": 17,
   "id": "90610811",
   "metadata": {},
   "outputs": [],
   "source": [
    "mv KoBART-summarization KoBART"
   ]
  },
  {
   "cell_type": "code",
   "execution_count": 18,
   "id": "9e953dc6",
   "metadata": {},
   "outputs": [
    {
     "name": "stdout",
     "output_type": "stream",
     "text": [
      "\u001b[0m\u001b[01;34mKoBART\u001b[0m/\r\n"
     ]
    }
   ],
   "source": [
    "ls"
   ]
  },
  {
   "cell_type": "code",
   "execution_count": 52,
   "id": "e66df655",
   "metadata": {},
   "outputs": [
    {
     "name": "stdout",
     "output_type": "stream",
     "text": [
      "/home/tf1\n"
     ]
    }
   ],
   "source": [
    "cd KoBART"
   ]
  },
  {
   "cell_type": "code",
   "execution_count": 56,
   "id": "0dc78419",
   "metadata": {},
   "outputs": [
    {
     "name": "stdout",
     "output_type": "stream",
     "text": [
      "\u001b[0m\u001b[01;34m__pycache__\u001b[0m/         \u001b[01;34mimgs\u001b[0m/             rouge_metric.py    train.py\r\n",
      "dataset.py           infer.py          \u001b[01;32mrun_train.sh\u001b[0m*\r\n",
      "download_binary.py   \u001b[01;34mkobart_summary\u001b[0m/   \u001b[01;32mrun_train_cpu.sh\u001b[0m*\r\n",
      "get_model_binary.py  requirements.txt  test.py\r\n"
     ]
    }
   ],
   "source": [
    "ls"
   ]
  },
  {
   "cell_type": "markdown",
   "id": "c7525b27",
   "metadata": {},
   "source": [
    "## 2. kobart 패키지 설치"
   ]
  },
  {
   "cell_type": "code",
   "execution_count": null,
   "id": "db564d5f",
   "metadata": {
    "scrolled": true,
    "slideshow": {
     "slide_type": "-"
    }
   },
   "outputs": [],
   "source": [
    "!pip install git+https://github.com/SKT-AI/KoBART#egg=kobart"
   ]
  },
  {
   "cell_type": "markdown",
   "id": "38e310c2",
   "metadata": {},
   "source": [
    "## 3. requirement 패키지 설치"
   ]
  },
  {
   "cell_type": "code",
   "execution_count": null,
   "id": "68114937",
   "metadata": {},
   "outputs": [],
   "source": [
    "!pip install -r requirements.txt"
   ]
  },
  {
   "cell_type": "markdown",
   "id": "9f48b2ce",
   "metadata": {},
   "source": [
    "## 4. download binary"
   ]
  },
  {
   "cell_type": "code",
   "execution_count": null,
   "id": "0d2d9127",
   "metadata": {},
   "outputs": [],
   "source": [
    "!pip install gdown\n",
    "!python download_binary.py"
   ]
  },
  {
   "cell_type": "markdown",
   "id": "53182a78",
   "metadata": {},
   "source": [
    "## 5. rouge 패키지 설치"
   ]
  },
  {
   "cell_type": "code",
   "execution_count": null,
   "id": "d0d93372",
   "metadata": {},
   "outputs": [],
   "source": [
    "!pip install rouge"
   ]
  },
  {
   "cell_type": "markdown",
   "id": "1a325bf1",
   "metadata": {},
   "source": [
    "## 6. 추가 설치"
   ]
  },
  {
   "cell_type": "markdown",
   "id": "dca36125",
   "metadata": {},
   "source": [
    "- 아래 링크로 들어가서 알맞은 pytorch 버전 설치\n",
    "\n",
    "https://pytorch.org/get-started/previous-versions/\n",
    "\n",
    "ex) 저희는 pytorch 1.7.1 버전 사용했었는데, 현재 깃헙 업데이트 되면서 pytorch 1.9.1을 필요로 하는 것 같아요!  \n",
    "<br>\n",
    "      저희가 사용했던 코드는 `!pip install torch==1.7.1+cu110 torchvision==0.8.2+cu110 torchaudio==0.7.2 -f https://download.pytorch.org/whl/torch_stable.html` 입니다"
   ]
  }
 ],
 "metadata": {
  "kernelspec": {
   "display_name": "Python 3",
   "language": "python",
   "name": "python3"
  },
  "language_info": {
   "codemirror_mode": {
    "name": "ipython",
    "version": 3
   },
   "file_extension": ".py",
   "mimetype": "text/x-python",
   "name": "python",
   "nbconvert_exporter": "python",
   "pygments_lexer": "ipython3",
   "version": "3.6.9"
  }
 },
 "nbformat": 4,
 "nbformat_minor": 5
}
